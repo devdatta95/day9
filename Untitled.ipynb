{
 "cells": [
  {
   "cell_type": "code",
   "execution_count": 1,
   "metadata": {},
   "outputs": [],
   "source": [
    "a = [1,2,3,4,5,6,7,8]\n",
    "b = [8,7,6,5,4,2,2,6]"
   ]
  },
  {
   "cell_type": "code",
   "execution_count": 2,
   "metadata": {},
   "outputs": [],
   "source": [
    "x = [ i*j for i in a for j in b]"
   ]
  },
  {
   "cell_type": "code",
   "execution_count": 3,
   "metadata": {},
   "outputs": [
    {
     "data": {
      "text/plain": [
       "[8,\n",
       " 7,\n",
       " 6,\n",
       " 5,\n",
       " 4,\n",
       " 2,\n",
       " 2,\n",
       " 6,\n",
       " 16,\n",
       " 14,\n",
       " 12,\n",
       " 10,\n",
       " 8,\n",
       " 4,\n",
       " 4,\n",
       " 12,\n",
       " 24,\n",
       " 21,\n",
       " 18,\n",
       " 15,\n",
       " 12,\n",
       " 6,\n",
       " 6,\n",
       " 18,\n",
       " 32,\n",
       " 28,\n",
       " 24,\n",
       " 20,\n",
       " 16,\n",
       " 8,\n",
       " 8,\n",
       " 24,\n",
       " 40,\n",
       " 35,\n",
       " 30,\n",
       " 25,\n",
       " 20,\n",
       " 10,\n",
       " 10,\n",
       " 30,\n",
       " 48,\n",
       " 42,\n",
       " 36,\n",
       " 30,\n",
       " 24,\n",
       " 12,\n",
       " 12,\n",
       " 36,\n",
       " 56,\n",
       " 49,\n",
       " 42,\n",
       " 35,\n",
       " 28,\n",
       " 14,\n",
       " 14,\n",
       " 42,\n",
       " 64,\n",
       " 56,\n",
       " 48,\n",
       " 40,\n",
       " 32,\n",
       " 16,\n",
       " 16,\n",
       " 48]"
      ]
     },
     "execution_count": 3,
     "metadata": {},
     "output_type": "execute_result"
    }
   ],
   "source": [
    "x"
   ]
  },
  {
   "cell_type": "code",
   "execution_count": null,
   "metadata": {},
   "outputs": [],
   "source": []
  }
 ],
 "metadata": {
  "kernelspec": {
   "display_name": "Python 3",
   "language": "python",
   "name": "python3"
  },
  "language_info": {
   "codemirror_mode": {
    "name": "ipython",
    "version": 3
   },
   "file_extension": ".py",
   "mimetype": "text/x-python",
   "name": "python",
   "nbconvert_exporter": "python",
   "pygments_lexer": "ipython3",
   "version": "3.7.1"
  }
 },
 "nbformat": 4,
 "nbformat_minor": 2
}
